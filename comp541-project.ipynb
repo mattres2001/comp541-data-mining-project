{
 "cells": [
  {
   "cell_type": "code",
   "execution_count": 12,
   "id": "1b7f6b4d",
   "metadata": {},
   "outputs": [
    {
     "name": "stdout",
     "output_type": "stream",
     "text": [
      "   country  year     sex          age  suicides_no  population  \\\n",
      "0  Albania  1987    male  15-24 years           21      312900   \n",
      "1  Albania  1987    male  35-54 years           16      308000   \n",
      "2  Albania  1987  female  15-24 years           14      289700   \n",
      "3  Albania  1987    male    75+ years            1       21800   \n",
      "4  Albania  1987    male  25-34 years            9      274300   \n",
      "\n",
      "   suicides/100k pop country-year  HDI for year  gdp_for_year ($)   \\\n",
      "0               6.71  Albania1987           NaN      2,156,624,900   \n",
      "1               5.19  Albania1987           NaN      2,156,624,900   \n",
      "2               4.83  Albania1987           NaN      2,156,624,900   \n",
      "3               4.59  Albania1987           NaN      2,156,624,900   \n",
      "4               3.28  Albania1987           NaN      2,156,624,900   \n",
      "\n",
      "   gdp_per_capita ($)       generation  \n",
      "0                 796     Generation X  \n",
      "1                 796           Silent  \n",
      "2                 796     Generation X  \n",
      "3                 796  G.I. Generation  \n",
      "4                 796          Boomers  \n"
     ]
    }
   ],
   "source": [
    "import pandas as pd\n",
    "data1 = pd.read_csv(\"Suicide_Rates_Overview_1985_to_2016.csv\")\n",
    "print(data1.head())"
   ]
  },
  {
   "cell_type": "code",
   "execution_count": 13,
   "id": "2a697b17",
   "metadata": {},
   "outputs": [
    {
     "name": "stdout",
     "output_type": "stream",
     "text": [
      "country                   0\n",
      "year                      0\n",
      "sex                       0\n",
      "age                       0\n",
      "suicides_no               0\n",
      "population                0\n",
      "suicides/100k pop         0\n",
      "country-year              0\n",
      "HDI for year          19456\n",
      " gdp_for_year ($)         0\n",
      "gdp_per_capita ($)        0\n",
      "generation                0\n",
      "dtype: int64\n"
     ]
    }
   ],
   "source": [
    "print(data1.isnull().sum())"
   ]
  },
  {
   "cell_type": "code",
   "execution_count": 14,
   "id": "7f266b8b",
   "metadata": {},
   "outputs": [
    {
     "name": "stdout",
     "output_type": "stream",
     "text": [
      "                 INDICATOR                                               UNIT  \\\n",
      "0  Death rates for suicide  Deaths per 100,000 resident population, age-ad...   \n",
      "1  Death rates for suicide  Deaths per 100,000 resident population, age-ad...   \n",
      "2  Death rates for suicide  Deaths per 100,000 resident population, age-ad...   \n",
      "3  Death rates for suicide  Deaths per 100,000 resident population, age-ad...   \n",
      "4  Death rates for suicide  Deaths per 100,000 resident population, age-ad...   \n",
      "\n",
      "   UNIT_NUM STUB_NAME  STUB_NAME_NUM   STUB_LABEL  STUB_LABEL_NUM  YEAR  \\\n",
      "0         1     Total              0  All persons             0.0  1950   \n",
      "1         1     Total              0  All persons             0.0  1960   \n",
      "2         1     Total              0  All persons             0.0  1970   \n",
      "3         1     Total              0  All persons             0.0  1980   \n",
      "4         1     Total              0  All persons             0.0  1981   \n",
      "\n",
      "   YEAR_NUM       AGE  AGE_NUM  ESTIMATE FLAG  \n",
      "0         1  All ages      0.0      13.2  NaN  \n",
      "1         2  All ages      0.0      12.5  NaN  \n",
      "2         3  All ages      0.0      13.1  NaN  \n",
      "3         4  All ages      0.0      12.2  NaN  \n",
      "4         5  All ages      0.0      12.3  NaN  \n"
     ]
    }
   ],
   "source": [
    "data2 = pd.read_csv(\"Death_rates_for_suicide__by_sex__race__Hispanic_origin__and_age__United_States.csv\")\n",
    "print(data2.head())"
   ]
  },
  {
   "cell_type": "code",
   "execution_count": 15,
   "id": "c0c4b8a8",
   "metadata": {},
   "outputs": [
    {
     "name": "stdout",
     "output_type": "stream",
     "text": [
      "INDICATOR            0\n",
      "UNIT                 0\n",
      "UNIT_NUM             0\n",
      "STUB_NAME            0\n",
      "STUB_NAME_NUM        0\n",
      "STUB_LABEL           0\n",
      "STUB_LABEL_NUM       0\n",
      "YEAR                 0\n",
      "YEAR_NUM             0\n",
      "AGE                  0\n",
      "AGE_NUM              0\n",
      "ESTIMATE           906\n",
      "FLAG              5484\n",
      "dtype: int64\n"
     ]
    }
   ],
   "source": [
    "print(data2.isnull().sum())"
   ]
  }
 ],
 "metadata": {
  "kernelspec": {
   "display_name": ".venv",
   "language": "python",
   "name": "python3"
  },
  "language_info": {
   "codemirror_mode": {
    "name": "ipython",
    "version": 3
   },
   "file_extension": ".py",
   "mimetype": "text/x-python",
   "name": "python",
   "nbconvert_exporter": "python",
   "pygments_lexer": "ipython3",
   "version": "3.13.7"
  }
 },
 "nbformat": 4,
 "nbformat_minor": 5
}
