{
 "cells": [
  {
   "cell_type": "code",
   "execution_count": 24,
   "id": "1b7f6b4d",
   "metadata": {},
   "outputs": [
    {
     "name": "stdout",
     "output_type": "stream",
     "text": [
      "   country  year     sex          age  suicides_no  population  \\\n",
      "0  Albania  1987    male  15-24 years           21      312900   \n",
      "1  Albania  1987    male  35-54 years           16      308000   \n",
      "2  Albania  1987  female  15-24 years           14      289700   \n",
      "3  Albania  1987    male    75+ years            1       21800   \n",
      "4  Albania  1987    male  25-34 years            9      274300   \n",
      "\n",
      "   suicides/100k pop country-year  HDI for year  gdp_for_year ($)   \\\n",
      "0               6.71  Albania1987           NaN      2,156,624,900   \n",
      "1               5.19  Albania1987           NaN      2,156,624,900   \n",
      "2               4.83  Albania1987           NaN      2,156,624,900   \n",
      "3               4.59  Albania1987           NaN      2,156,624,900   \n",
      "4               3.28  Albania1987           NaN      2,156,624,900   \n",
      "\n",
      "   gdp_per_capita ($)       generation  \n",
      "0                 796     Generation X  \n",
      "1                 796           Silent  \n",
      "2                 796     Generation X  \n",
      "3                 796  G.I. Generation  \n",
      "4                 796          Boomers  \n"
     ]
    }
   ],
   "source": [
    "# Comp541 Project 1\n",
    "import pandas as pd\n",
    "data1 = pd.read_csv(\"Suicide_Rates_Overview_1985_to_2016.csv\")\n",
    "print(data1.head())"
   ]
  },
  {
   "cell_type": "code",
   "execution_count": 25,
   "id": "f807a23d",
   "metadata": {},
   "outputs": [
    {
     "name": "stdout",
     "output_type": "stream",
     "text": [
      "country               27820\n",
      "year                  27820\n",
      "sex                   27820\n",
      "age                   27820\n",
      "suicides_no           27820\n",
      "population            27820\n",
      "suicides/100k pop     27820\n",
      "country-year          27820\n",
      "HDI for year           8364\n",
      " gdp_for_year ($)     27820\n",
      "gdp_per_capita ($)    27820\n",
      "generation            27820\n",
      "dtype: int64\n"
     ]
    }
   ],
   "source": [
    "\n",
    "print(data1.count())"
   ]
  },
  {
   "cell_type": "code",
   "execution_count": null,
   "id": "2a697b17",
   "metadata": {},
   "outputs": [
    {
     "name": "stdout",
     "output_type": "stream",
     "text": [
      "<bound method DataFrame.count of           country  year     sex          age  suicides_no  population  \\\n",
      "0         Albania  1987    male  15-24 years           21      312900   \n",
      "1         Albania  1987    male  35-54 years           16      308000   \n",
      "2         Albania  1987  female  15-24 years           14      289700   \n",
      "3         Albania  1987    male    75+ years            1       21800   \n",
      "4         Albania  1987    male  25-34 years            9      274300   \n",
      "...           ...   ...     ...          ...          ...         ...   \n",
      "27815  Uzbekistan  2014  female  35-54 years          107     3620833   \n",
      "27816  Uzbekistan  2014  female    75+ years            9      348465   \n",
      "27817  Uzbekistan  2014    male   5-14 years           60     2762158   \n",
      "27818  Uzbekistan  2014  female   5-14 years           44     2631600   \n",
      "27819  Uzbekistan  2014  female  55-74 years           21     1438935   \n",
      "\n",
      "       suicides/100k pop    country-year  HDI for year  gdp_for_year ($)   \\\n",
      "0                   6.71     Albania1987           NaN      2,156,624,900   \n",
      "1                   5.19     Albania1987           NaN      2,156,624,900   \n",
      "2                   4.83     Albania1987           NaN      2,156,624,900   \n",
      "3                   4.59     Albania1987           NaN      2,156,624,900   \n",
      "4                   3.28     Albania1987           NaN      2,156,624,900   \n",
      "...                  ...             ...           ...                ...   \n",
      "27815               2.96  Uzbekistan2014         0.675     63,067,077,179   \n",
      "27816               2.58  Uzbekistan2014         0.675     63,067,077,179   \n",
      "27817               2.17  Uzbekistan2014         0.675     63,067,077,179   \n",
      "27818               1.67  Uzbekistan2014         0.675     63,067,077,179   \n",
      "27819               1.46  Uzbekistan2014         0.675     63,067,077,179   \n",
      "\n",
      "       gdp_per_capita ($)       generation  \n",
      "0                     796     Generation X  \n",
      "1                     796           Silent  \n",
      "2                     796     Generation X  \n",
      "3                     796  G.I. Generation  \n",
      "4                     796          Boomers  \n",
      "...                   ...              ...  \n",
      "27815                2309     Generation X  \n",
      "27816                2309           Silent  \n",
      "27817                2309     Generation Z  \n",
      "27818                2309     Generation Z  \n",
      "27819                2309          Boomers  \n",
      "\n",
      "[27820 rows x 12 columns]>\n"
     ]
    }
   ],
   "source": [
    "# Data 1 has no duplicates\n",
    "data1.drop_duplicates()\n",
    "print(data1.count())"
   ]
  },
  {
   "cell_type": "code",
   "execution_count": 27,
   "id": "7f266b8b",
   "metadata": {},
   "outputs": [
    {
     "name": "stdout",
     "output_type": "stream",
     "text": [
      "INDICATOR         6390\n",
      "UNIT              6390\n",
      "UNIT_NUM          6390\n",
      "STUB_NAME         6390\n",
      "STUB_NAME_NUM     6390\n",
      "STUB_LABEL        6390\n",
      "STUB_LABEL_NUM    6390\n",
      "YEAR              6390\n",
      "YEAR_NUM          6390\n",
      "AGE               6390\n",
      "AGE_NUM           6390\n",
      "ESTIMATE          5484\n",
      "FLAG               906\n",
      "dtype: int64\n"
     ]
    }
   ],
   "source": [
    "data2 = pd.read_csv(\"Death_rates_for_suicide__by_sex__race__Hispanic_origin__and_age__United_States.csv\")\n",
    "print(data2.count())"
   ]
  },
  {
   "cell_type": "code",
   "execution_count": 28,
   "id": "8c42ae8a",
   "metadata": {},
   "outputs": [
    {
     "name": "stdout",
     "output_type": "stream",
     "text": [
      "INDICATOR         6390\n",
      "UNIT              6390\n",
      "UNIT_NUM          6390\n",
      "STUB_NAME         6390\n",
      "STUB_NAME_NUM     6390\n",
      "STUB_LABEL        6390\n",
      "STUB_LABEL_NUM    6390\n",
      "YEAR              6390\n",
      "YEAR_NUM          6390\n",
      "AGE               6390\n",
      "AGE_NUM           6390\n",
      "ESTIMATE          5484\n",
      "FLAG               906\n",
      "dtype: int64\n"
     ]
    }
   ],
   "source": [
    "# Data 2 has no duplicates\n",
    "data2.drop_duplicates()\n",
    "print(data2.count())"
   ]
  },
  {
   "cell_type": "code",
   "execution_count": 29,
   "id": "c0c4b8a8",
   "metadata": {},
   "outputs": [
    {
     "name": "stdout",
     "output_type": "stream",
     "text": [
      "INDICATOR            0\n",
      "UNIT                 0\n",
      "UNIT_NUM             0\n",
      "STUB_NAME            0\n",
      "STUB_NAME_NUM        0\n",
      "STUB_LABEL           0\n",
      "STUB_LABEL_NUM       0\n",
      "YEAR                 0\n",
      "YEAR_NUM             0\n",
      "AGE                  0\n",
      "AGE_NUM              0\n",
      "ESTIMATE           906\n",
      "FLAG              5484\n",
      "dtype: int64\n"
     ]
    }
   ],
   "source": [
    "print(data2.isnull().sum())"
   ]
  }
 ],
 "metadata": {
  "kernelspec": {
   "display_name": ".venv",
   "language": "python",
   "name": "python3"
  },
  "language_info": {
   "codemirror_mode": {
    "name": "ipython",
    "version": 3
   },
   "file_extension": ".py",
   "mimetype": "text/x-python",
   "name": "python",
   "nbconvert_exporter": "python",
   "pygments_lexer": "ipython3",
   "version": "3.13.7"
  }
 },
 "nbformat": 4,
 "nbformat_minor": 5
}
